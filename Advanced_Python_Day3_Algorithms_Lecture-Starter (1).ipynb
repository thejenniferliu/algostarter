{
 "cells": [
  {
   "cell_type": "markdown",
   "metadata": {},
   "source": [
    "# Classic Algorithms"
   ]
  },
  {
   "cell_type": "markdown",
   "metadata": {},
   "source": [
    "## Tasks Today:\n",
    " \n",
    "1) <b>In-Place Algorithms</b> <br>\n",
    " &nbsp;&nbsp;&nbsp;&nbsp; a) Syntax <br>\n",
    " &nbsp;&nbsp;&nbsp;&nbsp; a) Out of Place Algorithm <br>\n",
    " &nbsp;&nbsp;&nbsp;&nbsp; b) In-Class Exercise #1 <br>\n",
    "2) <b>Two Pointers</b> <br>\n",
    "3) <b>Sorting Algorithms</b> <br>\n",
    "4) <b>Merge Sort</b> <br>\n",
    " &nbsp;&nbsp;&nbsp;&nbsp; a) Video on Algorithms <br>\n",
    " &nbsp;&nbsp;&nbsp;&nbsp; b) How it Works <br>\n",
    "5) <b>Exercises</b> <br>\n",
    " &nbsp;&nbsp;&nbsp;&nbsp; a) Exercise #1 - Reverse a List in Place Using an In-Place Algorithm <br>\n",
    " &nbsp;&nbsp;&nbsp;&nbsp; b) Exercise #2 - Find Distinct Words <br>\n",
    " &nbsp;&nbsp;&nbsp;&nbsp; c) Exercise #3 - Write a program to implement a Linear Search Algorithm. <br>"
   ]
  },
  {
   "cell_type": "code",
   "execution_count": 2,
   "metadata": {},
   "outputs": [
    {
     "name": "stdout",
     "output_type": "stream",
     "text": [
      "0\n"
     ]
    }
   ],
   "source": [
    "def find_first_index(a_list):\n",
    "    return a_list[0]\n",
    "\n",
    "list1= [i for i in range(10)]\n",
    "list2= [i for i in range(100)]\n",
    "\n",
    "print(find_first_index(list1))\n",
    "\n",
    "#n is the function = and its a constant time alogorithm\n",
    "#same constant time for both function\n"
   ]
  },
  {
   "cell_type": "code",
   "execution_count": 5,
   "metadata": {},
   "outputs": [
    {
     "name": "stdout",
     "output_type": "stream",
     "text": [
      "0\n",
      "1\n",
      "2\n",
      "3\n",
      "4\n",
      "5\n",
      "6\n",
      "7\n",
      "8\n",
      "9\n"
     ]
    },
    {
     "data": {
      "text/plain": [
       "10"
      ]
     },
     "execution_count": 5,
     "metadata": {},
     "output_type": "execute_result"
    }
   ],
   "source": [
    "def count_operation(n):\n",
    "    num_operations = 0\n",
    "    for i in range(n):\n",
    "        print(i)\n",
    "        num_operations += 1\n",
    "    return num_operations\n",
    "\n",
    "count_operation(10)\n",
    "\n",
    "#nested for loops: o n^2, usually try to avoid it.\n",
    "#loop it 3 times: o n^3\n"
   ]
  },
  {
   "cell_type": "code",
   "execution_count": 7,
   "metadata": {},
   "outputs": [
    {
     "name": "stdout",
     "output_type": "stream",
     "text": [
      "2124480118016\n",
      "[1, 2, 3, 3, 3, 4, 5, 6, 7, 7, 8]\n",
      "2124480118016\n"
     ]
    }
   ],
   "source": [
    "my_list = [3, 5, 7, 8, 4, 3, 1, 2, 3, 6, 7]\n",
    "print(id(my_list))\n",
    "\n",
    "def sort_my_list_in_place(a_list):  #constant space O(1) - amount of memory always constant.\n",
    "    a_list.sort()  #does not need new memory - the id is even the same\n",
    "    return a_list\n",
    "\n",
    "def sort_my_list_out_of_place(a_list):  \n",
    "    return sorted(a_list)\n",
    "\n",
    "sort_my_list_in_place(my_list)\n",
    "print(my_list)\n",
    "print(id(my_list))"
   ]
  },
  {
   "cell_type": "code",
   "execution_count": 8,
   "metadata": {},
   "outputs": [
    {
     "name": "stdout",
     "output_type": "stream",
     "text": [
      "[1, 2, 3, 3, 3, 4, 5, 6, 7, 7, 8]\n",
      "2124480106176\n"
     ]
    }
   ],
   "source": [
    "my_sorted_list = sort_my_list_out_of_place(my_list)\n",
    "print(my_sorted_list)\n",
    "print(id(my_sorted_list))  #new memory needed. linear space operation O(n)-  out of place"
   ]
  },
  {
   "cell_type": "markdown",
   "metadata": {},
   "source": [
    "## In-Place Algorithms"
   ]
  },
  {
   "cell_type": "markdown",
   "metadata": {},
   "source": [
    "#### Syntax"
   ]
  },
  {
   "cell_type": "code",
   "execution_count": 11,
   "metadata": {},
   "outputs": [
    {
     "name": "stdout",
     "output_type": "stream",
     "text": [
      "Before swap: [1, 2, 3, 4, 5]\n",
      "After swap: [5, 2, 3, 4, 1]\n"
     ]
    }
   ],
   "source": [
    "list1 = [1, 2, 3, 4, 5]\n",
    "\n",
    "def swap(a_list, index_a, index_b):\n",
    "    temp = a_list[index_a]\n",
    "    a_list[index_a] = a_list[index_b]\n",
    "    a_list[index_b] = temp\n",
    "\n",
    "print(\"Before swap:\", list1)\n",
    "swap(list1, 0, 4)\n",
    "print(\"After swap:\", list1)"
   ]
  },
  {
   "cell_type": "code",
   "execution_count": null,
   "metadata": {},
   "outputs": [],
   "source": [
    "a, b, c = 1, 2, 3\n",
    "\n",
    "print(\"a\", a)\n",
    "print(\"b\", b)\n",
    "print(\"c\", c)"
   ]
  },
  {
   "cell_type": "code",
   "execution_count": null,
   "metadata": {},
   "outputs": [],
   "source": [
    "# a_list[a], a_list[b] = a_list[b], a_list[a]\n"
   ]
  },
  {
   "cell_type": "code",
   "execution_count": 15,
   "metadata": {},
   "outputs": [
    {
     "name": "stdout",
     "output_type": "stream",
     "text": [
      "Before swap: [1, 2, 3, 4, 5]\n",
      "After swap: [5, 2, 3, 4, 1]\n"
     ]
    }
   ],
   "source": [
    "list2 = [1, 2, 3, 4, 5]\n",
    "\n",
    "def swap2(a_list, index_a, index_b): #constant space O(1) - in place algorithm\n",
    "    a_list[index_a], a_list[index_b] = a_list[index_b], a_list[index_a]\n",
    "    \n",
    "\n",
    "print(\"Before swap:\", list2)\n",
    "swap2(list2, 0, 4)\n",
    "print(\"After swap:\", list2)"
   ]
  },
  {
   "cell_type": "markdown",
   "metadata": {},
   "source": [
    "#### Out of Place Algorithm"
   ]
  },
  {
   "cell_type": "code",
   "execution_count": 16,
   "metadata": {},
   "outputs": [
    {
     "name": "stdout",
     "output_type": "stream",
     "text": [
      "before swap: ['blue', 'orange', 'red', 'green', 'yellow', 'purple']\n",
      "after swap: ['blue', 'orange', 'red', 'green', 'yellow', 'purple']\n",
      "new list: ['blue', 'yellow', 'red', 'green', 'orange', 'purple']\n"
     ]
    }
   ],
   "source": [
    "def out_of_place_swap(original_list, index1, index2): #linear space O(n) and linear time O(n)\n",
    "    #create copy of original list\n",
    "    new_list = original_list[:]\n",
    "    #set value at index1 of the new list to the value of index2 of the original\n",
    "    new_list[index1] = original_list[index2]\n",
    "    #set new list index2 to the value at original list index1\n",
    "    new_list[index2] = original_list[index1]\n",
    "    return new_list\n",
    "\n",
    "list3 = ['blue', 'orange', 'red', 'green', 'yellow', 'purple']\n",
    "\n",
    "print('before swap:', list3)\n",
    "new_list = out_of_place_swap(list3, 1, 4)\n",
    "out_of_place_swap(list3, 1, 4)\n",
    "print('after swap:', list3)\n",
    "print('new list:', new_list)\n"
   ]
  },
  {
   "cell_type": "code",
   "execution_count": null,
   "metadata": {},
   "outputs": [],
   "source": [
    "#setting a value is constant. returning is constant\n"
   ]
  },
  {
   "cell_type": "code",
   "execution_count": null,
   "metadata": {},
   "outputs": [],
   "source": []
  },
  {
   "cell_type": "markdown",
   "metadata": {},
   "source": [
    "#### In-Class Exercise #1 <br>\n",
    "<p>Write a function that takes in four arguments (a_list, index1, index2, index3), and swaps those three positions in the list passed in.</p>"
   ]
  },
  {
   "cell_type": "code",
   "execution_count": 23,
   "metadata": {},
   "outputs": [
    {
     "name": "stdout",
     "output_type": "stream",
     "text": [
      "Before swap: ['hello', 'goodbye', 'soyonara']\n",
      "After swap: ['soyonara', 'hello', 'goodbye']\n"
     ]
    }
   ],
   "source": [
    "def swap_three(a_list, a, b, c):\n",
    "    a_list[a], a_list[b], a_list[c] = a_list[c], a_list[a], a_list[b]\n",
    "\n",
    "a_list = ['hello', 'goodbye', 'soyonara']\n",
    "\n",
    "\n",
    "print(\"Before swap:\", a_list)\n",
    "swap_three(a_list, 0, 1, 2)\n",
    "print(\"After swap:\", a_list)"
   ]
  },
  {
   "cell_type": "markdown",
   "metadata": {},
   "source": [
    "## Two Pointers"
   ]
  },
  {
   "cell_type": "markdown",
   "metadata": {},
   "source": [
    "#### Syntax"
   ]
  },
  {
   "cell_type": "code",
   "execution_count": 25,
   "metadata": {},
   "outputs": [
    {
     "name": "stdout",
     "output_type": "stream",
     "text": [
      "[80, 70, 60, 50, 40, 30, 20, 10]\n"
     ]
    }
   ],
   "source": [
    "def reverse_a_list(a_list): # happening in place\n",
    "    #create two varialbes to point to the index we want to swap\n",
    "    left = 0 #first element in the list\n",
    "    right = len(a_list) - 1 #last element in the list - 10 elements - 9 index\n",
    "    while left < right:\n",
    "        #swap those two positions\n",
    "        a_list[left], a_list[right] = a_list[right], a_list[left]\n",
    "        left+=1\n",
    "        right -= 1\n",
    "    return a_list\n",
    "\n",
    "some_list = [10, 20, 30, 40, 50, 60, 70, 80]\n",
    "\n",
    "print(reverse_a_list(some_list))"
   ]
  },
  {
   "cell_type": "code",
   "execution_count": null,
   "metadata": {},
   "outputs": [],
   "source": []
  },
  {
   "cell_type": "markdown",
   "metadata": {},
   "source": [
    "# Sorting Algorithms"
   ]
  },
  {
   "cell_type": "code",
   "execution_count": 26,
   "metadata": {},
   "outputs": [
    {
     "name": "stdout",
     "output_type": "stream",
     "text": [
      "[24, 15, 70, 25, 92, 76, 16, 11, 3, 82]\n"
     ]
    }
   ],
   "source": [
    "import random\n",
    "\n",
    "list_to_sort = [random.randint(1, 100) for _ in range(10)]\n",
    "\n",
    "print(list_to_sort)"
   ]
  },
  {
   "cell_type": "markdown",
   "metadata": {},
   "source": [
    "#### Bubble Sort\n",
    "\n",
    "Worst Case: O(n^2) Time - O(1) Space"
   ]
  },
  {
   "cell_type": "code",
   "execution_count": 28,
   "metadata": {},
   "outputs": [
    {
     "data": {
      "text/plain": [
       "[3, 11, 15, 16, 24, 25, 70, 76, 82, 92]"
      ]
     },
     "execution_count": 28,
     "metadata": {},
     "output_type": "execute_result"
    }
   ],
   "source": [
    "#start out assuming the list is unsorted - no swaps\n",
    "\n",
    "#https://visualgo.net/en/sorting?slide=1\n",
    "\n",
    "def bubble_sort(lst):\n",
    "    #assume list is unsorted at the start\n",
    "    is_sorted = False\n",
    "    #while unsorted, loop through and buble largest to the top\n",
    "    while not is_sorted:\n",
    "        #being for loop with assumption that list is sorted\n",
    "        is_sorted = True\n",
    "        #loop from 0 index to last index - 1\n",
    "        for idx in range(len(lst)-1): #range 9 gives 0 - 8, lst = 10\n",
    "            #if the list at index idx is greater than the value to its right\n",
    "            if lst[idx] > lst[idx+1]:\n",
    "                #swap those value\n",
    "                lst[idx], lst[idx+1] = lst[idx+1], lst[idx]\n",
    "                is_sorted = False\n",
    "    return lst\n",
    "\n",
    "bubble_sort(list_to_sort)\n"
   ]
  },
  {
   "cell_type": "code",
   "execution_count": 29,
   "metadata": {},
   "outputs": [
    {
     "data": {
      "text/plain": [
       "[92, 82, 76, 70, 25, 24, 16, 15, 11, 3]"
      ]
     },
     "execution_count": 29,
     "metadata": {},
     "output_type": "execute_result"
    }
   ],
   "source": [
    "def bubble_sort(lst, reverse=False):\n",
    "    # While the list is not sorted, loop through and bubble the largest to the top\n",
    "    while True:\n",
    "        # Begin the for loop with the assumption that the list is sorted.\n",
    "        is_sorted = True\n",
    "        # Loop from 0-index to the last-index - 1\n",
    "        for idx in range(len(lst) - 1):\n",
    "            # if the list at index idx is greater than the value to its right\n",
    "            if (lst[idx] > lst[idx+1] and not reverse) or (lst[idx] < lst[idx+1] and reverse):\n",
    "                # swap those two value\n",
    "                lst[idx], lst[idx+1] = lst[idx+1], lst[idx]\n",
    "                # if we do have to swap at any point, that means our list is not sorted\n",
    "                is_sorted = False\n",
    "        if is_sorted:\n",
    "            break\n",
    "                \n",
    "    return lst\n",
    "\n",
    "\n",
    "bubble_sort(list_to_sort, reverse=True)"
   ]
  },
  {
   "cell_type": "markdown",
   "metadata": {},
   "source": [
    "##### Insertion Sort\n",
    "\n",
    "Worst Case: O(n^2) time - O(1)space"
   ]
  },
  {
   "cell_type": "code",
   "execution_count": 30,
   "metadata": {},
   "outputs": [
    {
     "name": "stdout",
     "output_type": "stream",
     "text": [
      "[26, 47, 48, 43, 33, 38, 25, 8, 49, 17]\n"
     ]
    }
   ],
   "source": [
    "list_to_sort = [random.randint(1,50) for _ in range(10)]\n",
    "print(list_to_sort)"
   ]
  },
  {
   "cell_type": "code",
   "execution_count": 32,
   "metadata": {},
   "outputs": [
    {
     "data": {
      "text/plain": [
       "[8, 17, 25, 26, 33, 38, 43, 47, 48, 49]"
      ]
     },
     "execution_count": 32,
     "metadata": {},
     "output_type": "execute_result"
    }
   ],
   "source": [
    "def insertion_sort(lst):\n",
    "    #loop over the unordered section (start at 1 because 0 is sorted)\n",
    "    for i in range(1, len(lst)): #it is why we start at 1, cus 0 is sorted\n",
    "        #while not at front of list and the element to the left is < our element\n",
    "        while i > 0 and lst[i] < lst[i-1]:\n",
    "            #swap our element with the element to its left\n",
    "            lst[i], lst[i-1] = lst[i-1], lst[i]\n",
    "            #move our pointer left one element (match our swap)\n",
    "            i -= 1\n",
    "    return lst\n",
    "\n",
    "insertion_sort(list_to_sort)\n"
   ]
  },
  {
   "cell_type": "markdown",
   "metadata": {},
   "source": [
    "## Merge Sort"
   ]
  },
  {
   "cell_type": "markdown",
   "metadata": {},
   "source": [
    "#### How it Works"
   ]
  },
  {
   "cell_type": "code",
   "execution_count": 36,
   "metadata": {},
   "outputs": [
    {
     "name": "stdout",
     "output_type": "stream",
     "text": [
      "[21, 22, 30, 5, 12, 27, 15, 20]\n"
     ]
    }
   ],
   "source": [
    "list_to_sort = [random.randint(1, 50) for _ in range(8)]\n",
    "print(list_to_sort)"
   ]
  },
  {
   "cell_type": "code",
   "execution_count": 42,
   "metadata": {},
   "outputs": [
    {
     "name": "stdout",
     "output_type": "stream",
     "text": [
      "Splitting... [5, 12, 15, 20, 21, 22, 27, 30]\n",
      "Splitting... [5, 12, 15, 20]\n",
      "Splitting... [5, 12]\n",
      "Merged... [5]\n",
      "Merged... [12]\n",
      "Merged... [5, 12]\n",
      "Splitting... [15, 20]\n",
      "Merged... [15]\n",
      "Merged... [20]\n",
      "Merged... [15, 20]\n",
      "Merged... [5, 12, 15, 20]\n",
      "Splitting... [21, 22, 27, 30]\n",
      "Splitting... [21, 22]\n",
      "Merged... [21]\n",
      "Merged... [22]\n",
      "Merged... [21, 22]\n",
      "Splitting... [27, 30]\n",
      "Merged... [27]\n",
      "Merged... [30]\n",
      "Merged... [27, 30]\n",
      "Merged... [21, 22, 27, 30]\n",
      "Merged... [5, 12, 15, 20, 21, 22, 27, 30]\n"
     ]
    },
    {
     "data": {
      "text/plain": [
       "[5, 12, 15, 20, 21, 22, 27, 30]"
      ]
     },
     "execution_count": 42,
     "metadata": {},
     "output_type": "execute_result"
    }
   ],
   "source": [
    "def merge_sort(lst):\n",
    "    # Check to see if the list has more than one element\n",
    "    if len(lst) > 1:\n",
    "        # Find the midway point\n",
    "        mid = len(lst) // 2\n",
    "        print(\"Splitting...\", lst)\n",
    "        left_half = lst[:mid]\n",
    "        right_half = lst[mid:]\n",
    "        \n",
    "        # Recursively call merge sort on the left half and then right half\n",
    "        merge_sort(left_half)\n",
    "        merge_sort(right_half)\n",
    "        \n",
    "        # Merge the left half with the right half\n",
    "        \n",
    "        # index pointer for our list\n",
    "        l = 0 # pointer for left half list\n",
    "        r = 0 # pointer for right half list\n",
    "        m = 0 # pointer for main list\n",
    "        \n",
    "        # While there are still elements in both left and right\n",
    "        while l < len(left_half) and r < len(right_half):\n",
    "            # If the lowest value in the left half is less than the lowest value in the right half\n",
    "            if left_half[l] < right_half[r]:\n",
    "                # Add the value at the left half to the main list\n",
    "                lst[m] = left_half[l]\n",
    "                # move the left pointer right one element\n",
    "                l += 1\n",
    "            # If the lowest in the right half is less than or equal than lowest in left\n",
    "            else:\n",
    "                # Add the value at the right half to the main list\n",
    "                lst[m] = right_half[r]\n",
    "                # move the right pointer right one element\n",
    "                r += 1\n",
    "            # Either way, always move the main pointer over 1\n",
    "            m += 1\n",
    "        # If right half is exhausted first  \n",
    "        while l < len(left_half):\n",
    "            # Fill the rest of main with left half\n",
    "            lst[m] = left_half[l]\n",
    "            l += 1\n",
    "            m += 1\n",
    "        # If left half is exhausted first, fill main with rest of righ half\n",
    "        while r < len(right_half):\n",
    "            lst[m] = right_half[r]\n",
    "            r += 1\n",
    "            m += 1\n",
    "    print('Merged...', lst)\n",
    "    return lst\n",
    "# if l < len(left_half):\n",
    "# lst[m:] = left_half[l:]           \n",
    "# if r < len(right_half):\n",
    "# lst[m:] = right_half[r:]   instead of the while \n",
    "       \n",
    "    \n",
    "merge_sort(list_to_sort)"
   ]
  },
  {
   "cell_type": "markdown",
   "metadata": {},
   "source": [
    "# Binary Search\n",
    "\n",
    "The Binary Search algorithm works by finding the number in the middle of a given array and comparing it to the target. **Given that the array is sorted**\n",
    "\n",
    "* The worst case run time for this algorithm is `O(log(n))`"
   ]
  },
  {
   "cell_type": "code",
   "execution_count": 15,
   "metadata": {},
   "outputs": [
    {
     "data": {
      "text/plain": [
       "'the index for 70 is 5'"
      ]
     },
     "execution_count": 15,
     "metadata": {},
     "output_type": "execute_result"
    }
   ],
   "source": [
    "# Less == Left\n",
    "# Greater == Right\n",
    "# List of numbers MUST be sorted\n",
    "\n",
    "nums_list = [10, 23, 45, 70, 11, 15]\n",
    "num = sorted(nums_list)\n",
    "\n",
    "def binary_search(lst, target):\n",
    "    low = 0 #first element\n",
    "    high = len(lst) - 1\n",
    "    while low <= high:\n",
    "        #find midway point between high and low\n",
    "        mid = (low + high) // 2\n",
    "        if target == lst[mid]:\n",
    "            return f\"the index for {target} is {mid}\"   \n",
    "        elif target < lst[mid]:\n",
    "            high = mid - 1\n",
    "        else:\n",
    "            #set low point to one greater than our mid point\n",
    "            low = mid + 1\n",
    "    #if low ever gets higer than high, we know element not in the list\n",
    "\n",
    "list_to_sort = [2, 3, 4, 5, 4, 28, 45]\n",
    "binary_search(num, 70)\n"
   ]
  },
  {
   "cell_type": "markdown",
   "metadata": {},
   "source": [
    "# Exercises"
   ]
  },
  {
   "cell_type": "markdown",
   "metadata": {},
   "source": [
    "### Exercise #1 <br>\n",
    "<p>Reverse the list below in-place using an in-place algorithm.<br>For extra credit: Reverse the strings at the same time.</p>"
   ]
  },
  {
   "cell_type": "code",
   "execution_count": 11,
   "metadata": {},
   "outputs": [
    {
     "name": "stdout",
     "output_type": "stream",
     "text": [
      "['this', 'is', 'a', 'sentence', '.']\n",
      "['.', 'sentence', 'a', 'is', 'this']\n"
     ]
    }
   ],
   "source": [
    "def reverse_words(words, a, b, c, d, e):\n",
    "    words[a], words[b], words[c], words[d], words[e] = words[e], words[d], words[c], words[b], words[a]\n",
    "\n",
    "words = ['this' , 'is', 'a', 'sentence', '.']\n",
    "\n",
    "print(words)\n",
    "reverse_words(words, 0, 1, 2, 3, 4)\n",
    "print(words)"
   ]
  },
  {
   "attachments": {},
   "cell_type": "markdown",
   "metadata": {},
   "source": [
    "### Exercise #2 <br>\n",
    "<p>Create a function that counts how many distinct words are in the string below, then outputs a dictionary with the words as the key and the value as the amount of times that word appears in the string.</p>\n",
    "Example Output:<code>{'in': 1, 'computing': 1, 'a': 5, ...}</code>\n"
   ]
  },
  {
   "cell_type": "code",
   "execution_count": null,
   "metadata": {},
   "outputs": [],
   "source": []
  },
  {
   "cell_type": "code",
   "execution_count": 43,
   "metadata": {},
   "outputs": [
    {
     "name": "stdout",
     "output_type": "stream",
     "text": [
      "['In', 'computing,', 'a', 'hash', 'table', 'hash', 'map', 'is', 'a', 'data', 'structure', 'which', 'implements', 'an', 'associative', 'array', 'abstract', 'data', 'type,', 'a', 'structure', 'that', 'can', 'map', 'keys', 'to', 'values.', 'A', 'hash', 'table', 'uses', 'a', 'hash', 'function', 'to', 'compute', 'an', 'index', 'into', 'an', 'array', 'of', 'buckets', 'or', 'slots', 'from', 'which', 'the', 'desired', 'value', 'can', 'be', 'found']\n",
      "{'In': 1, 'computing,': 1, 'a': 4, 'hash': 4, 'table': 2, 'map': 2, 'is': 1, 'data': 2, 'structure': 2, 'which': 2, 'implements': 1, 'an': 3, 'associative': 1, 'array': 2, 'abstract': 1, 'type,': 1, 'that': 1, 'can': 2, 'keys': 1, 'to': 2, 'values.': 1, 'A': 1, 'uses': 1, 'function': 1, 'compute': 1, 'index': 1, 'into': 1, 'of': 1, 'buckets': 1, 'or': 1, 'slots': 1, 'from': 1, 'the': 1, 'desired': 1, 'value': 1, 'be': 1, 'found': 1}\n"
     ]
    }
   ],
   "source": [
    "a_text = 'In computing, a hash table hash map is a data structure which implements an associative array abstract data type, a structure that can map keys to values. A hash table uses a hash function to compute an index into an array of buckets or slots from which the desired value can be found'\n",
    "splitted = a_text.split()\n",
    "print(splitted)\n",
    "\n",
    "def count_stuff(string):\n",
    "    new_string = string.split()\n",
    "    answer = {}\n",
    "    for item in new_string:\n",
    "        if item not in answer:\n",
    "            answer[item] = 1 \n",
    "        else:\n",
    "            answer[item] += 1\n",
    "    return answer\n",
    "\n",
    "print(count_stuff(a_text))\n",
    "\n",
    "\n",
    "\n"
   ]
  },
  {
   "cell_type": "markdown",
   "metadata": {},
   "source": [
    "## Exercise #3\n",
    "\n",
    "Write a function implementing a Linear Search Algorithm. A linear search is a method for finding an element within a list. It sequentially checks each element of the list until a match is found or the whole list has been searched. If you do not find a match, return -1"
   ]
  },
  {
   "cell_type": "code",
   "execution_count": 39,
   "metadata": {},
   "outputs": [
    {
     "name": "stdout",
     "output_type": "stream",
     "text": [
      "70 was found at index[3]\n"
     ]
    }
   ],
   "source": [
    "nums_list = [10, 23, 45, 70, 11, 15]\n",
    "\n",
    "target = 70\n",
    "x = 6\n",
    "y = 70\n",
    "# If number is not present return -1\n",
    "def find_seventy(nums_list, x, y):\n",
    "    for i in range(x):\n",
    "        if (nums_list[i] == y ):\n",
    "            return f\"{y} was found at index{[i]}\"\n",
    "    return -1\n",
    "        \n",
    "\n",
    "\n",
    "print(find_seventy(nums_list, x, y))"
   ]
  }
 ],
 "metadata": {
  "kernelspec": {
   "display_name": "Python 3",
   "language": "python",
   "name": "python3"
  },
  "language_info": {
   "codemirror_mode": {
    "name": "ipython",
    "version": 3
   },
   "file_extension": ".py",
   "mimetype": "text/x-python",
   "name": "python",
   "nbconvert_exporter": "python",
   "pygments_lexer": "ipython3",
   "version": "3.10.8"
  },
  "vscode": {
   "interpreter": {
    "hash": "3ab5368e7ec7d93726c4b49a481fa74b0442170a02f03d047cec6ddd95fa5acf"
   }
  }
 },
 "nbformat": 4,
 "nbformat_minor": 2
}
